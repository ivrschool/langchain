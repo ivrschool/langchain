{
 "cells": [
  {
   "cell_type": "markdown",
   "id": "21fa2e13-567d-4509-9023-c99fb230f31f",
   "metadata": {},
   "source": [
    "LangGraph and ReAct Agent"
   ]
  },
  {
   "cell_type": "code",
   "execution_count": 13,
   "id": "f5762271-8736-4e94-9444-8c92bd0e8074",
   "metadata": {
    "height": 47
   },
   "outputs": [],
   "source": [
    "from dotenv import load_dotenv\n",
    "_ = load_dotenv()"
   ]
  },
  {
   "cell_type": "code",
   "execution_count": 14,
   "id": "8fee9f40",
   "metadata": {},
   "outputs": [],
   "source": [
    "from typing import Annotated, Sequence, TypedDict\n",
    "from langgraph.graph.message import add_messages\n",
    "from langchain_core.messages import BaseMessage\n",
    "\n",
    "class AgentState(TypedDict):\n",
    "    messages: Annotated[Sequence[BaseMessage], add_messages]\n",
    "    number_of_steps: int\n"
   ]
  },
  {
   "cell_type": "code",
   "execution_count": 15,
   "id": "1f8b04ec",
   "metadata": {},
   "outputs": [],
   "source": [
    "from langchain_core.tools import tool\n",
    "from pydantic import BaseModel, Field\n",
    "\n",
    "class AnimalFactInput(BaseModel):\n",
    "    animal: str = Field(description=\"The name of the animal\")\n",
    "\n",
    "@tool(\"get_animal_fact\", args_schema=AnimalFactInput, return_direct=True)\n",
    "def get_animal_fact(animal: str):\n",
    "    \"\"\"Returns a fun fact about the specified animal.\"\"\"\n",
    "    facts = {\n",
    "        \"elephant\": \"Elephants are the largest land animals on Earth.\",\n",
    "        \"cheetah\": \"Cheetahs are the fastest land animals, reaching speeds up to 70 mph.\",\n",
    "        \"penguin\": \"Penguins can't fly, but they are excellent swimmers.\",\n",
    "    }\n",
    "    return facts.get(animal, \"I don't have a fact for that animal.\")\n",
    "\n",
    "class LifespanInput(BaseModel):\n",
    "    animal: str = Field(description=\"The name of the animal\")\n",
    "\n",
    "@tool(\"get_animal_lifespan\", args_schema=LifespanInput, return_direct=True)\n",
    "def get_animal_lifespan(animal: str):\n",
    "    \"\"\"Returns the typical lifespan of a given animal.\"\"\"\n",
    "    lifespans = {\n",
    "        \"elephant\": \"Elephants can live up to 60-70 years.\",\n",
    "        \"cheetah\": \"Cheetahs live around 10-12 years in the wild.\",\n",
    "        \"penguin\": \"Penguins typically live for 15-20 years.\",\n",
    "    }\n",
    "    return lifespans.get(animal, \"I don't have data on that animal's lifespan.\")\n",
    "\n"
   ]
  },
  {
   "cell_type": "code",
   "execution_count": 16,
   "id": "954296fa",
   "metadata": {},
   "outputs": [],
   "source": [
    "from langchain_google_genai import ChatGoogleGenerativeAI\n",
    "\n",
    "llm = ChatGoogleGenerativeAI(\n",
    "    model=\"gemini-2.5-flash\",\n",
    "    temperature=1.0,\n",
    "    max_retries=2,\n",
    ")\n",
    "\n",
    "tools = [get_animal_fact, get_animal_lifespan]\n",
    "model = llm.bind_tools(tools)\n"
   ]
  },
  {
   "cell_type": "code",
   "execution_count": 17,
   "id": "c0e0da0b",
   "metadata": {},
   "outputs": [],
   "source": [
    "from langchain_core.messages import ToolMessage\n",
    "from langchain_core.runnables import RunnableConfig\n",
    "\n",
    "tools_by_name = {tool.name: tool for tool in tools}\n",
    "\n",
    "def call_tool(state: AgentState):\n",
    "    outputs = []\n",
    "    for tool_call in state[\"messages\"][-1].tool_calls:\n",
    "        tool_result = tools_by_name[tool_call[\"name\"]].invoke(tool_call[\"args\"])\n",
    "        outputs.append(\n",
    "            ToolMessage(\n",
    "                content=tool_result,\n",
    "                name=tool_call[\"name\"],\n",
    "                tool_call_id=tool_call[\"id\"],\n",
    "            )\n",
    "        )\n",
    "    return {\"messages\": outputs}\n",
    "\n",
    "def call_model(state: AgentState, config: RunnableConfig):\n",
    "    response = model.invoke(state[\"messages\"], config)\n",
    "    return {\"messages\": [response]}\n",
    "\n",
    "def should_continue(state: AgentState):\n",
    "    messages = state[\"messages\"]\n",
    "    if not messages[-1].tool_calls:\n",
    "        return \"end\"\n",
    "    return \"continue\"\n"
   ]
  },
  {
   "cell_type": "code",
   "execution_count": 18,
   "id": "88844672",
   "metadata": {},
   "outputs": [],
   "source": [
    "from langgraph.graph import StateGraph, END\n",
    "\n",
    "workflow = StateGraph(AgentState)\n",
    "\n",
    "workflow.add_node(\"llm\", call_model)\n",
    "workflow.add_node(\"tools\", call_tool)\n",
    "\n",
    "workflow.set_entry_point(\"llm\")\n",
    "\n",
    "workflow.add_conditional_edges(\n",
    "    \"llm\",\n",
    "    should_continue,\n",
    "    {\n",
    "        \"continue\": \"tools\",\n",
    "        \"end\": END,\n",
    "    },\n",
    ")\n",
    "\n",
    "workflow.add_edge(\"tools\", \"llm\")\n",
    "\n",
    "graph = workflow.compile()\n"
   ]
  },
  {
   "cell_type": "code",
   "execution_count": 20,
   "id": "bae5e7ff",
   "metadata": {},
   "outputs": [
    {
     "name": "stdout",
     "output_type": "stream",
     "text": [
      "================================\u001b[1m Human Message \u001b[0m=================================\n",
      "\n",
      "Tell me an interesting fact about cheetah.\n",
      "==================================\u001b[1m Ai Message \u001b[0m==================================\n",
      "Tool Calls:\n",
      "  get_animal_fact (0ce0a976-42f5-4854-8544-88a23e251a98)\n",
      " Call ID: 0ce0a976-42f5-4854-8544-88a23e251a98\n",
      "  Args:\n",
      "    animal: cheetah\n",
      "=================================\u001b[1m Tool Message \u001b[0m=================================\n",
      "Name: get_animal_fact\n",
      "\n",
      "Cheetahs are the fastest land animals, reaching speeds up to 70 mph.\n",
      "==================================\u001b[1m Ai Message \u001b[0m==================================\n",
      "\n",
      "Cheetahs are the fastest land animals, reaching speeds up to 70 mph.\n"
     ]
    }
   ],
   "source": [
    "from datetime import datetime\n",
    "\n",
    "inputs = {\"messages\": [(\"user\", \"Tell me an interesting fact about cheetah.\")]}\n",
    "\n",
    "for state in graph.stream(inputs, stream_mode=\"values\"):\n",
    "    last_message = state[\"messages\"][-1]\n",
    "    last_message.pretty_print()\n"
   ]
  },
  {
   "cell_type": "code",
   "execution_count": 21,
   "id": "66cbd69b",
   "metadata": {},
   "outputs": [
    {
     "name": "stdout",
     "output_type": "stream",
     "text": [
      "================================\u001b[1m Human Message \u001b[0m=================================\n",
      "\n",
      "How long do cheetah live?\n",
      "==================================\u001b[1m Ai Message \u001b[0m==================================\n",
      "Tool Calls:\n",
      "  get_animal_lifespan (dac07a66-7e67-4791-8857-60bb6782754b)\n",
      " Call ID: dac07a66-7e67-4791-8857-60bb6782754b\n",
      "  Args:\n",
      "    animal: cheetah\n",
      "=================================\u001b[1m Tool Message \u001b[0m=================================\n",
      "Name: get_animal_lifespan\n",
      "\n",
      "Cheetahs live around 10-12 years in the wild.\n",
      "==================================\u001b[1m Ai Message \u001b[0m==================================\n",
      "\n",
      "Cheetahs live around 10-12 years in the wild.\n"
     ]
    }
   ],
   "source": [
    "state[\"messages\"].append((\"user\", \"How long do cheetah live?\"))\n",
    "\n",
    "for state in graph.stream(state, stream_mode=\"values\"):\n",
    "    last_message = state[\"messages\"][-1]\n",
    "    last_message.pretty_print()\n"
   ]
  },
  {
   "cell_type": "code",
   "execution_count": 22,
   "id": "1f623516",
   "metadata": {},
   "outputs": [
    {
     "name": "stdout",
     "output_type": "stream",
     "text": [
      "================================\u001b[1m Human Message \u001b[0m=================================\n",
      "\n",
      "How long do cheetah live? Also, Tell me an interesting fact about it.\n",
      "==================================\u001b[1m Ai Message \u001b[0m==================================\n",
      "Tool Calls:\n",
      "  get_animal_lifespan (0fc3f171-dcb9-407d-8a3d-1d6a5ebfd74c)\n",
      " Call ID: 0fc3f171-dcb9-407d-8a3d-1d6a5ebfd74c\n",
      "  Args:\n",
      "    animal: cheetah\n",
      "  get_animal_fact (083f5a86-fb03-428b-97d0-1271a7463600)\n",
      " Call ID: 083f5a86-fb03-428b-97d0-1271a7463600\n",
      "  Args:\n",
      "    animal: cheetah\n",
      "=================================\u001b[1m Tool Message \u001b[0m=================================\n",
      "Name: get_animal_fact\n",
      "\n",
      "Cheetahs are the fastest land animals, reaching speeds up to 70 mph.\n",
      "==================================\u001b[1m Ai Message \u001b[0m==================================\n",
      "\n",
      "Cheetahs live around 10-12 years in the wild. Also, they are the fastest land animals, reaching speeds up to 70 mph.\n"
     ]
    }
   ],
   "source": [
    "state[\"messages\"].append((\"user\", \"How long do cheetah live? Also, Tell me an interesting fact about it.\"))\n",
    "\n",
    "for state in graph.stream(state, stream_mode=\"values\"):\n",
    "    last_message = state[\"messages\"][-1]\n",
    "    last_message.pretty_print()\n"
   ]
  },
  {
   "cell_type": "code",
   "execution_count": null,
   "id": "42bc6fe4",
   "metadata": {},
   "outputs": [],
   "source": []
  }
 ],
 "metadata": {
  "kernelspec": {
   "display_name": ".venv",
   "language": "python",
   "name": "python3"
  },
  "language_info": {
   "codemirror_mode": {
    "name": "ipython",
    "version": 3
   },
   "file_extension": ".py",
   "mimetype": "text/x-python",
   "name": "python",
   "nbconvert_exporter": "python",
   "pygments_lexer": "ipython3",
   "version": "3.13.3"
  }
 },
 "nbformat": 4,
 "nbformat_minor": 5
}
