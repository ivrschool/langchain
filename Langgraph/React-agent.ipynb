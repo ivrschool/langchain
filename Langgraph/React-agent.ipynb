{
 "cells": [
  {
   "cell_type": "code",
   "execution_count": 1,
   "id": "58e4b282",
   "metadata": {},
   "outputs": [],
   "source": [
    "import re\n",
    "import os\n",
    "from dotenv import load_dotenv\n",
    "from langchain_google_genai import ChatGoogleGenerativeAI\n",
    "load_dotenv()\n",
    "chat = ChatGoogleGenerativeAI(temperature=0.0, model=\"gemini-2.0-flash\")"
   ]
  },
  {
   "cell_type": "code",
   "execution_count": 2,
   "id": "ef247126",
   "metadata": {},
   "outputs": [],
   "source": [
    "class Agent:\n",
    "  def __init__(self, llm_model=\"gemini-2.0-flash\", system=\"\"):\n",
    "    self.system = system\n",
    "    self.messages = []\n",
    "    if self.system:\n",
    "      self.messages.append((\"system\", self.system))\n",
    "      self.chat = ChatGoogleGenerativeAI(model=llm_model, temperature=0.0)\n",
    "\n",
    "  def __call__(self, message):\n",
    "    self.messages.append((\"user\", message))\n",
    "    result = self.execute()\n",
    "    self.messages.append((\"assistant\", result))\n",
    "    return result\n",
    "\n",
    "  def execute(self):\n",
    "    ai_msg = self.chat.invoke(self.messages)\n",
    "    return ai_msg.content"
   ]
  },
  {
   "cell_type": "code",
   "execution_count": 15,
   "id": "1f9e8ed3",
   "metadata": {},
   "outputs": [],
   "source": [
    "prompt = \"\"\"\n",
    "You run in a loop of Thought, Action, PAUSE, Observation.\n",
    "At the end of the loop you output an Answer.\n",
    "Use Thought to describe your thoughts about the question.\n",
    "Use Action to run one of the actions available to you - then return PAUSE.\n",
    "Observation will be the result of running those actions.\n",
    "\n",
    "Your available actions are:\n",
    "movie_plot:\n",
    "e.g. movie_plot: Inception\n",
    "Returns the summary plot of the movie\n",
    "\n",
    "character_count:\n",
    "e.g. character_count: Hello world\n",
    "Returns the number of characters in the input string\n",
    "\n",
    "Example session:\n",
    "Question: What is the plot of Titanic?\n",
    "Thought: I should get the plot of the movie Titanic\n",
    "Action: movie_plot: Titanic\n",
    "PAUSE\n",
    "\n",
    "You will be called again with this:\n",
    "Observation: Titanic is a romantic drama about a couple on the ill-fated RMS Titanic.\n",
    "\n",
    "You then output:\n",
    "Answer: Titanic is a romantic drama about a couple on the ill-fated RMS Titanic.\n",
    "\n",
    "Note: You should not use your own brain to answer if you have available action to execute the same.\n",
    "\"\"\".strip()"
   ]
  },
  {
   "cell_type": "code",
   "execution_count": 16,
   "id": "4ae407a7",
   "metadata": {},
   "outputs": [],
   "source": [
    "def movie_plot(title):\n",
    "  plots = {\n",
    "  \"Titanic\": \"Titanic is a romantic drama about a couple on the ill-fated RMS Titanic.\",\n",
    "  \"Inception\": \"Inception is a sci-fi film where dream invasion and manipulation are possible.\",\n",
    "  \"The Matrix\": \"The Matrix is about a man who discovers reality is a simulated illusion.\"\n",
    "  }\n",
    "  return plots.get(title.strip(), \"Sorry, I don't know the plot for that movie.\")\n",
    "def character_count(text):\n",
    "  return f\"The input has {len(text)} characters.\""
   ]
  },
  {
   "cell_type": "code",
   "execution_count": 17,
   "id": "cf0f071f",
   "metadata": {},
   "outputs": [
    {
     "name": "stderr",
     "output_type": "stream",
     "text": [
      "<>:1: SyntaxWarning: invalid escape sequence '\\w'\n",
      "<>:1: SyntaxWarning: invalid escape sequence '\\w'\n",
      "/var/folders/c9/h7x3gp7x57n7kz8n91yjhw6w0000gn/T/ipykernel_63644/1435635788.py:1: SyntaxWarning: invalid escape sequence '\\w'\n",
      "  action_re = re.compile('^Action: (\\w+): (.*)$')\n"
     ]
    }
   ],
   "source": [
    "action_re = re.compile('^Action: (\\w+): (.*)$')\n",
    "\n",
    "known_actions = {\n",
    "\"movie_plot\": movie_plot,\n",
    "\"character_count\": character_count\n",
    "}\n",
    "\n",
    "def query(question, max_turns=5):\n",
    "  i = 0\n",
    "  bot = Agent(system=prompt)\n",
    "  next_prompt = question\n",
    "  while i < max_turns:\n",
    "    i += 1\n",
    "    result = bot(next_prompt)\n",
    "    print(result)\n",
    "    actions = [action_re.match(a) for a in result.split('\\n') if action_re.match(a)]\n",
    "    if actions:\n",
    "      action, action_input = actions[0].groups()\n",
    "      if action not in known_actions:\n",
    "        raise Exception(f\"Unknown action: {action}: {action_input}\")\n",
    "      print(f\" - running {action}: {action_input}\")\n",
    "      observation = known_actions[action](action_input)\n",
    "      print(\"Observation:\", observation)\n",
    "      next_prompt = f\"Observation: {observation}\"\n",
    "    else:\n",
    "      return"
   ]
  },
  {
   "cell_type": "code",
   "execution_count": 18,
   "id": "c1e90eaf",
   "metadata": {},
   "outputs": [
    {
     "name": "stdout",
     "output_type": "stream",
     "text": [
      "Thought: I should use the movie_plot tool to find the plot of Inception.\n",
      "Action: movie_plot: Inception\n",
      "PAUSE\n",
      " - running movie_plot: Inception\n",
      "Observation: Inception is a sci-fi film where dream invasion and manipulation are possible.\n",
      "Answer: Inception is a sci-fi film where dream invasion and manipulation are possible.\n"
     ]
    }
   ],
   "source": [
    "query(\"What is the plot of Inception?\")"
   ]
  },
  {
   "cell_type": "code",
   "execution_count": 19,
   "id": "1d6d8fb1",
   "metadata": {},
   "outputs": [
    {
     "name": "stdout",
     "output_type": "stream",
     "text": [
      "Thought: I need to count the number of characters in the sentence 'Life is beautiful'.\n",
      "Action: character_count: Life is beautiful\n",
      "PAUSE\n",
      " - running character_count: Life is beautiful\n",
      "Observation: The input has 17 characters.\n",
      "Answer: The sentence 'Life is beautiful' has 17 characters.\n"
     ]
    }
   ],
   "source": [
    "query(\"How many characters are in the sentence 'Life is beautiful'?\")"
   ]
  },
  {
   "cell_type": "code",
   "execution_count": 20,
   "id": "6e4801bd",
   "metadata": {},
   "outputs": [
    {
     "name": "stdout",
     "output_type": "stream",
     "text": [
      "Thought: I need to find the plot of the movie Inception and then count the number of characters in the plot.\n",
      "Action: movie_plot: Inception\n",
      "PAUSE\n",
      " - running movie_plot: Inception\n",
      "Observation: Inception is a sci-fi film where dream invasion and manipulation are possible.\n",
      "Thought: Now that I have the plot of Inception, I need to count the number of characters in the plot.\n",
      "Action: character_count: Inception is a sci-fi film where dream invasion and manipulation are possible.\n",
      "PAUSE\n",
      " - running character_count: Inception is a sci-fi film where dream invasion and manipulation are possible.\n",
      "Observation: The input has 78 characters.\n",
      "Answer: Inception is a sci-fi film where dream invasion and manipulation are possible. The plot has 78 characters.\n"
     ]
    }
   ],
   "source": [
    "query(\"What is the plot of Inception? also, how many charachter does the plot have?\")"
   ]
  },
  {
   "cell_type": "code",
   "execution_count": null,
   "id": "6235a311",
   "metadata": {},
   "outputs": [],
   "source": []
  }
 ],
 "metadata": {
  "kernelspec": {
   "display_name": ".venv",
   "language": "python",
   "name": "python3"
  },
  "language_info": {
   "codemirror_mode": {
    "name": "ipython",
    "version": 3
   },
   "file_extension": ".py",
   "mimetype": "text/x-python",
   "name": "python",
   "nbconvert_exporter": "python",
   "pygments_lexer": "ipython3",
   "version": "3.13.3"
  }
 },
 "nbformat": 4,
 "nbformat_minor": 5
}
