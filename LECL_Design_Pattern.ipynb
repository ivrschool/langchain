{
 "cells": [
  {
   "cell_type": "code",
   "execution_count": 11,
   "metadata": {},
   "outputs": [],
   "source": [
    "class DummyComponent:\n",
    "    def __init__(self, name, transform_fn):\n",
    "        self.name = name\n",
    "        self.transform_fn = transform_fn\n",
    "        self.next = None\n",
    "    \n",
    "    def __or__(self, other):\n",
    "        print(f\"Linking {self.name} → {other.name}\")\n",
    "        self.next = other\n",
    "        return other\n",
    "    \n",
    "    def run(self, data):\n",
    "        new_data = self.transform_fn(data)\n",
    "        print(f\"{self.name} output: {new_data}\")\n",
    "        if self.next:\n",
    "            return self.next.run(new_data)\n",
    "        else:\n",
    "            return new_data"
   ]
  },
  {
   "cell_type": "code",
   "execution_count": 12,
   "metadata": {},
   "outputs": [
    {
     "name": "stdout",
     "output_type": "stream",
     "text": [
      "Linking Prompt → Model\n",
      "Linking Model → OutputParser\n"
     ]
    }
   ],
   "source": [
    "# Define transformations\n",
    "prompt_fn = lambda x: f\"Prompted({x})\"\n",
    "model_fn = lambda x: f\"ModelResponse({x})\"\n",
    "output_parser_fn = lambda x: f\"ParsedOutput({x})\"\n",
    "\n",
    "# Create components\n",
    "prompt = DummyComponent(\"Prompt\", prompt_fn)\n",
    "model = DummyComponent(\"Model\", model_fn)\n",
    "output_parser = DummyComponent(\"OutputParser\", output_parser_fn)\n",
    "\n",
    "# Link them using |\n",
    "chain = prompt | model | output_parser"
   ]
  },
  {
   "cell_type": "code",
   "execution_count": 13,
   "metadata": {},
   "outputs": [
    {
     "name": "stdout",
     "output_type": "stream",
     "text": [
      "Prompt output: Prompted(Hello world)\n",
      "Model output: ModelResponse(Prompted(Hello world))\n",
      "OutputParser output: ParsedOutput(ModelResponse(Prompted(Hello world)))\n"
     ]
    },
    {
     "data": {
      "text/plain": [
       "'ParsedOutput(ModelResponse(Prompted(Hello world)))'"
      ]
     },
     "execution_count": 13,
     "metadata": {},
     "output_type": "execute_result"
    }
   ],
   "source": [
    "# Run the chain\n",
    "prompt.run(\"Hello world\")"
   ]
  },
  {
   "cell_type": "code",
   "execution_count": null,
   "metadata": {},
   "outputs": [],
   "source": []
  }
 ],
 "metadata": {
  "kernelspec": {
   "display_name": ".venv",
   "language": "python",
   "name": "python3"
  },
  "language_info": {
   "codemirror_mode": {
    "name": "ipython",
    "version": 3
   },
   "file_extension": ".py",
   "mimetype": "text/x-python",
   "name": "python",
   "nbconvert_exporter": "python",
   "pygments_lexer": "ipython3",
   "version": "3.13.3"
  }
 },
 "nbformat": 4,
 "nbformat_minor": 2
}
